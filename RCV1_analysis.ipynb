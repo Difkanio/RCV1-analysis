{
 "cells": [
  {
   "cell_type": "markdown",
   "metadata": {},
   "source": [
    "# Neural Network vs LightGBM comparison\n",
    "### Damjan Strbac"
   ]
  },
  {
   "cell_type": "markdown",
   "metadata": {},
   "source": [
    "## Neural network"
   ]
  },
  {
   "cell_type": "code",
   "execution_count": 1,
   "id": "7ea02868-b6e8-4da1-8ea0-215392a6e98c",
   "metadata": {},
   "outputs": [],
   "source": [
    "import torch as T\n",
    "import torch.nn as nn"
   ]
  },
  {
   "cell_type": "code",
   "execution_count": 7,
   "metadata": {},
   "outputs": [],
   "source": [
    "#Neural network for RCV1 dataset\n",
    "#dataset: https://scikit-learn.org/0.18/datasets/rcv1.html\n",
    "class RCV1NeuralNetwork(nn.Module):\n",
    "    def __init__(self):\n",
    "        super(RCV1NeuralNetwork, self).__init__()\n",
    "        self.layer1 = nn.Linear(47236, 1024)\n",
    "        self.act1 = nn.ReLU()\n",
    "        self.drop1 = nn.Dropout(p=0.2)\n",
    "        self.layer2 = nn.Linear(1024, 256)\n",
    "        self.act2 = nn.ReLU()\n",
    "        self.drop2 = nn.Dropout(p=0.2)\n",
    "        self.output = nn.Linear(256, 103)\n",
    "        self.softmax = nn.LogSoftmax(dim=1) \n",
    "\n",
    "    def forward(self, x):\n",
    "        x = self.act1(self.layer1(x))\n",
    "        x = self.drop1(x)\n",
    "        x = self.act2(self.layer2(x))\n",
    "        x = self.drop2(x)\n",
    "        x = self.output(x)\n",
    "        x = self.softmax(x)  # Apply softmax activation\n",
    "        return x"
   ]
  },
  {
   "cell_type": "code",
   "execution_count": 2,
   "id": "4118af27-4a7d-47c1-82c7-66060e0b713f",
   "metadata": {},
   "outputs": [],
   "source": [
    "from sklearn.datasets import fetch_rcv1\n",
    "rcv1 = fetch_rcv1(subset='train', random_state=42, download_if_missing=True)\n",
    "\n",
    "X = rcv1.data\n",
    "y = rcv1.target"
   ]
  },
  {
   "cell_type": "code",
   "execution_count": 180,
   "metadata": {},
   "outputs": [
    {
     "name": "stdout",
     "output_type": "stream",
     "text": [
      "(23149, 47236)\n",
      "(23149, 103)\n"
     ]
    }
   ],
   "source": [
    "print(X.shape)\n",
    "print(y.shape)"
   ]
  },
  {
   "cell_type": "code",
   "execution_count": 3,
   "metadata": {},
   "outputs": [],
   "source": [
    "from sklearn.model_selection import train_test_split\n",
    "\n",
    "X_train, X_test, y_train, y_test = train_test_split(X, y, test_size=0.6, random_state=42)\n",
    "\n",
    "\n",
    "# Convert data and labels to PyTorch tensors\n",
    "X_train_tensor = T.tensor(X_train.toarray()).float()\n",
    "X_test_tensor = T.tensor(X_test.toarray()).float()\n",
    "y_train_tensor = T.tensor(y_train.toarray()).float()\n",
    "y_test_tensor = T.tensor(y_test.toarray()).float()\n"
   ]
  },
  {
   "cell_type": "code",
   "execution_count": 4,
   "metadata": {},
   "outputs": [],
   "source": [
    "from torch.utils.data import DataLoader, TensorDataset\n",
    "\n",
    "# Create DataLoader\n",
    "train_dataset = TensorDataset(X_train_tensor, y_train_tensor)\n",
    "test_dataset = TensorDataset(X_test_tensor, y_test_tensor)\n",
    "\n",
    "train_loader = DataLoader(train_dataset, batch_size=16, shuffle=True)\n",
    "test_loader = DataLoader(test_dataset, batch_size=16)\n"
   ]
  },
  {
   "cell_type": "code",
   "execution_count": 5,
   "metadata": {},
   "outputs": [
    {
     "name": "stdout",
     "output_type": "stream",
     "text": [
      "cpu\n"
     ]
    }
   ],
   "source": [
    "device = T.device(\"cuda:0\") if T.cuda.is_available() else T.device(\"cpu\")\n",
    "print(device)"
   ]
  },
  {
   "cell_type": "code",
   "execution_count": 8,
   "metadata": {},
   "outputs": [],
   "source": [
    "net = RCV1NeuralNetwork().to(device)\n",
    "optimizer = T.optim.Adam(net.parameters(), lr=1e-3, weight_decay=1e-5)\n",
    "loss_fn = nn.CrossEntropyLoss()"
   ]
  },
  {
   "cell_type": "code",
   "execution_count": 9,
   "metadata": {},
   "outputs": [],
   "source": [
    "\n",
    "from torcheval.metrics.functional import multiclass_precision, multiclass_recall\n",
    "\n",
    "def calculate_precision(y_true, y_pred):\n",
    "    y_pred_classes = y_pred.argmax(dim=1)  # Get predicted class\n",
    "    y_true_classes = y_true.argmax(dim=1)  # Get true class\n",
    "    return multiclass_precision(y_pred_classes, y_true_classes, num_classes=103)  # Calculate multiclass precision\n",
    "\n",
    "# Function to calculate recall for the neural network\n",
    "def calculate_recall(y_true, y_pred):\n",
    "    y_pred_classes = y_pred.argmax(dim=1)  # Get predicted class\n",
    "    y_true_classes = y_true.argmax(dim=1)  # Get true class\n",
    "    return multiclass_recall(y_pred_classes, y_true_classes, num_classes=103)  # Calculate multiclass recall"
   ]
  },
  {
   "cell_type": "code",
   "execution_count": 10,
   "metadata": {},
   "outputs": [],
   "source": [
    "EPOCHS = 10\n",
    "best_precision = 0.0\n",
    "best_recall = 0.0\n",
    "\n",
    "best_state = None\n",
    "best_optimizer_state = None\n",
    "\n",
    "patience = 2\n",
    "counter = 0"
   ]
  },
  {
   "cell_type": "code",
   "execution_count": 12,
   "metadata": {},
   "outputs": [
    {
     "name": "stdout",
     "output_type": "stream",
     "text": [
      "Epoch 1/10, Loss: 1.6596, Precision: 0.5663\n",
      "Test Precision: 0.7297, Test Recall: 0.7297\n",
      "Epoch 2/10, Loss: 0.5931, Precision: 0.8303\n",
      "Test Precision: 0.7757, Test Recall: 0.7757\n",
      "Epoch 3/10, Loss: 0.2314, Precision: 0.9356\n",
      "Test Precision: 0.7726, Test Recall: 0.7726\n",
      "Epoch 4/10, Loss: 0.1271, Precision: 0.9692\n",
      "Test Precision: 0.7755, Test Recall: 0.7755\n",
      "Early stopping at epoch 4 due to no improvement in test precision.\n"
     ]
    }
   ],
   "source": [
    "for epoch in range(EPOCHS):\n",
    "    net.train()  # Set the model to training mode\n",
    "    total_loss = 0.0\n",
    "    total_precision = 0.0\n",
    "    \n",
    "    for x, y in train_loader:\n",
    "        x, y = x.to(device), y.to(device)\n",
    "        optimizer.zero_grad()\n",
    "        preds = net(x)\n",
    "        loss = loss_fn(preds, y.argmax(dim=1))\n",
    "        loss.backward()\n",
    "        optimizer.step()\n",
    "        \n",
    "        total_loss += loss.item() * x.size(0)\n",
    "        total_precision += calculate_precision(y, preds).item() * x.size(0)\n",
    "    \n",
    "    avg_loss = total_loss / len(train_loader.dataset)\n",
    "    avg_precision = total_precision / len(train_loader.dataset)\n",
    "    \n",
    "    print(f\"Epoch {epoch + 1}/{EPOCHS}, Loss: {avg_loss:.4f}, Precision: {avg_precision:.4f}\")\n",
    "    \n",
    "    # Evaluation on the test set\n",
    "    net.eval()  # Set the model to evaluation mode\n",
    "    total_precision = 0.0\n",
    "    total_recall = 0.0\n",
    "    \n",
    "    with T.no_grad():\n",
    "        for x, y in test_loader:\n",
    "            x, y = x.to(device), y.to(device)\n",
    "            preds = net(x)\n",
    "            total_precision += calculate_precision(y, preds).item() * x.size(0)\n",
    "            total_recall += calculate_recall(y, preds).item() * x.size(0)\n",
    "    \n",
    "    avg_precision = total_precision / len(test_loader.dataset)\n",
    "    avg_recall = total_recall / len(test_loader.dataset)\n",
    "    print(f\"Test Precision: {avg_precision:.4f}, Test Recall: {avg_recall:.4f}\")\n",
    "    \n",
    "    # Check if test accuracy improved\n",
    "    if avg_precision > best_precision and avg_recall > best_recall:\n",
    "        best_precision = avg_precision\n",
    "        best_recall = avg_recall\n",
    "        best_state = net.state_dict()\n",
    "        best_optimizer_state = optimizer.state_dict()  # Save optimizer state\n",
    "        T.save({\n",
    "            'epoch': epoch,\n",
    "            'model_state_dict': net.state_dict(),\n",
    "            'optimizer_state_dict': optimizer.state_dict(),\n",
    "            'loss': avg_loss,\n",
    "            }, \"best_model_checkpoint.pth\")\n",
    "        counter = 0  # Reset counter if there's improvement\n",
    "    else:\n",
    "        counter += 1  # Increment counter if no improvement\n",
    "    \n",
    "    # Check if early stopping criteria met\n",
    "    if counter >= patience:\n",
    "        print(f\"Early stopping at epoch {epoch + 1} due to no improvement in test precision.\")\n",
    "        break"
   ]
  },
  {
   "cell_type": "code",
   "execution_count": 13,
   "metadata": {},
   "outputs": [
    {
     "name": "stdout",
     "output_type": "stream",
     "text": [
      "Model restored to the state with the best test precision.\n",
      "Final precision:  0.775665946724262\n",
      "Final recall:  0.775665946724262\n"
     ]
    }
   ],
   "source": [
    "if best_state is not None:\n",
    "    checkpoint = T.load(\"best_model_checkpoint.pth\")\n",
    "    net.load_state_dict(checkpoint['model_state_dict'])\n",
    "    optimizer.load_state_dict(checkpoint['optimizer_state_dict'])\n",
    "    epoch = checkpoint['epoch']\n",
    "    loss = checkpoint['loss']\n",
    "    print(\"Model restored to the state with the best test precision.\")\n",
    "    \n",
    "    # Save the best model and optimizer state\n",
    "    T.save({\n",
    "            'epoch': epoch,\n",
    "            'model_state_dict': net.state_dict(),\n",
    "            'optimizer_state_dict': optimizer.state_dict(),\n",
    "            'loss': loss,\n",
    "            }, \"best_model_checkpoint.pth\")\n",
    "\n",
    "# Evaluate the restored model on the test set\n",
    "net.eval()\n",
    "total_precision = 0.0\n",
    "total_recall = 0.0\n",
    "with T.no_grad():\n",
    "    for x, y in test_loader:\n",
    "        x, y = x.to(device), y.to(device)\n",
    "        preds = net(x)\n",
    "        total_precision += calculate_precision(y, preds).item() * x.size(0)\n",
    "        total_recall += calculate_recall(y, preds).item() * x.size(0)\n",
    "\n",
    "nn_final_precision = total_precision / len(test_loader.dataset)\n",
    "nn_final_recall = total_recall / len(test_loader.dataset)\n",
    "print(\"Final precision: \", nn_final_precision)\n",
    "print(\"Final recall: \", nn_final_recall)\n"
   ]
  },
  {
   "cell_type": "markdown",
   "metadata": {},
   "source": [
    "## LightGBM"
   ]
  },
  {
   "cell_type": "code",
   "execution_count": 15,
   "metadata": {},
   "outputs": [],
   "source": [
    "import lightgbm as lgb\n",
    "import optuna as opt\n",
    "import numpy as np\n",
    "from sklearn.metrics import precision_score, recall_score\n",
    "from sklearn.preprocessing import StandardScaler\n",
    "from sklearn.model_selection import GridSearchCV\n",
    "from sklearn.preprocessing import LabelEncoder"
   ]
  },
  {
   "cell_type": "code",
   "execution_count": 16,
   "metadata": {},
   "outputs": [],
   "source": [
    "X = rcv1.data[:10000]\n",
    "y = rcv1.target[:10000].toarray()"
   ]
  },
  {
   "cell_type": "code",
   "execution_count": 17,
   "metadata": {},
   "outputs": [],
   "source": [
    "\n",
    "X_train, X_val,y_train, y_val = train_test_split(X, y, test_size=0.2, random_state=42)\n",
    "X_val, X_test, y_val, y_test = train_test_split(X_val, y_val, test_size=0.5, random_state=42)"
   ]
  },
  {
   "cell_type": "code",
   "execution_count": 18,
   "metadata": {},
   "outputs": [
    {
     "name": "stdout",
     "output_type": "stream",
     "text": [
      "(8000, 47236)\n",
      "(8000,)\n",
      "(1000, 47236)\n",
      "(1000,)\n"
     ]
    }
   ],
   "source": [
    "y_train = np.argmax(y_train, axis=1)\n",
    "y_val = np.argmax(y_val, axis=1)\n",
    "y_test = np.argmax(y_test, axis=1)\n",
    "\n",
    "print(X_train.shape)\n",
    "print(y_train.shape)\n",
    "print(X_test.shape)\n",
    "print(y_test.shape)"
   ]
  },
  {
   "cell_type": "code",
   "execution_count": 19,
   "metadata": {},
   "outputs": [],
   "source": [
    "scaler = StandardScaler(with_mean=False)\n",
    "X_train = scaler.fit_transform(X_train)\n",
    "X_test = scaler.transform(X_test)\n",
    "X_val = scaler.transform(X_val)"
   ]
  },
  {
   "cell_type": "code",
   "execution_count": 20,
   "metadata": {},
   "outputs": [
    {
     "name": "stdout",
     "output_type": "stream",
     "text": [
      "(8000, 47236)\n",
      "(1000, 47236)\n"
     ]
    }
   ],
   "source": [
    "print(X_train.shape)\n",
    "print(X_test.shape)"
   ]
  },
  {
   "cell_type": "code",
   "execution_count": 21,
   "metadata": {},
   "outputs": [],
   "source": [
    "def objective(trial):\n",
    "    param = {\n",
    "        \"objective\": \"multiclass\",\n",
    "        \"metric\": \"multi_logloss\",\n",
    "        \"verbosity\": -1,\n",
    "        \"boosting_type\": \"gbdt\",\n",
    "        \"lambda_l1\": trial.suggest_float(\"lambda_l1\", 1e-8, 10.0, log=True),\n",
    "        \"lambda_l2\": trial.suggest_float(\"lambda_l2\", 1e-8, 10.0, log=True),\n",
    "        \"learning_rate\": trial.suggest_float(\"learning_rate\", 1e-8, 1e-1, log=True),\n",
    "        \"num_leaves\": trial.suggest_int(\"num_leaves\", 2, 256),\n",
    "        \"feature_fraction\": trial.suggest_float(\"feature_fraction\", 0.4, 1.0),\n",
    "        \"bagging_fraction\": trial.suggest_float(\"bagging_fraction\", 0.4, 1.0),\n",
    "        \"bagging_freq\": trial.suggest_int(\"bagging_freq\", 1, 7),\n",
    "        \"min_child_samples\": trial.suggest_int(\"min_child_samples\", 5, 100),\n",
    "    }\n",
    "    \n",
    "    model = lgb.LGBMClassifier(**param)\n",
    "    model.fit(X_train, y_train)\n",
    "    y_pred = model.predict(X_test)\n",
    "    y_pred = np.rint(y_pred)\n",
    "    precision = precision_score(y_test, y_pred, average='micro')\n",
    "    return precision"
   ]
  },
  {
   "cell_type": "code",
   "execution_count": 22,
   "metadata": {},
   "outputs": [
    {
     "name": "stderr",
     "output_type": "stream",
     "text": [
      "[I 2024-06-25 13:07:37,859] A new study created in memory with name: no-name-ed9e6446-e8d3-4b55-8b99-fb562a8ff221\n",
      "[I 2024-06-25 13:08:08,411] Trial 0 finished with value: 0.784 and parameters: {'lambda_l1': 1.3271906458486163e-06, 'lambda_l2': 7.021011507153124e-08, 'learning_rate': 0.06038153456673849, 'num_leaves': 143, 'feature_fraction': 0.7780968821239698, 'bagging_fraction': 0.8275301554127328, 'bagging_freq': 5, 'min_child_samples': 65}. Best is trial 0 with value: 0.784.\n",
      "[I 2024-06-25 13:08:35,502] Trial 1 finished with value: 0.195 and parameters: {'lambda_l1': 1.8434448117593613e-07, 'lambda_l2': 1.0991583948852883e-08, 'learning_rate': 3.5342458468953524e-05, 'num_leaves': 238, 'feature_fraction': 0.47503655998419414, 'bagging_fraction': 0.9293973262171915, 'bagging_freq': 1, 'min_child_samples': 44}. Best is trial 0 with value: 0.784.\n",
      "[I 2024-06-25 13:08:56,235] Trial 2 finished with value: 0.376 and parameters: {'lambda_l1': 3.844675493975448e-07, 'lambda_l2': 1.3938276290195974e-06, 'learning_rate': 0.0010072377705257968, 'num_leaves': 25, 'feature_fraction': 0.9017107920322263, 'bagging_fraction': 0.7586893219182376, 'bagging_freq': 4, 'min_child_samples': 39}. Best is trial 0 with value: 0.784.\n",
      "[I 2024-06-25 13:09:16,213] Trial 3 finished with value: 0.195 and parameters: {'lambda_l1': 1.3162785036221442e-05, 'lambda_l2': 0.0006179858251080148, 'learning_rate': 6.1372534556777305e-06, 'num_leaves': 180, 'feature_fraction': 0.6457028992414799, 'bagging_fraction': 0.5032270024633877, 'bagging_freq': 5, 'min_child_samples': 26}. Best is trial 0 with value: 0.784.\n",
      "[I 2024-06-25 13:10:04,991] Trial 4 finished with value: 0.692 and parameters: {'lambda_l1': 4.238667239051706e-06, 'lambda_l2': 9.312086221909924e-06, 'learning_rate': 0.005231355067369934, 'num_leaves': 175, 'feature_fraction': 0.5980532929939743, 'bagging_fraction': 0.8023977291220667, 'bagging_freq': 5, 'min_child_samples': 18}. Best is trial 0 with value: 0.784.\n",
      "[I 2024-06-25 13:10:19,042] Trial 5 finished with value: 0.195 and parameters: {'lambda_l1': 0.0035162489490869493, 'lambda_l2': 0.00201344337918807, 'learning_rate': 4.4336041150665893e-07, 'num_leaves': 175, 'feature_fraction': 0.8011924124983945, 'bagging_fraction': 0.5981446114034273, 'bagging_freq': 4, 'min_child_samples': 60}. Best is trial 0 with value: 0.784.\n",
      "[I 2024-06-25 13:10:39,878] Trial 6 finished with value: 0.195 and parameters: {'lambda_l1': 4.623221673830324e-08, 'lambda_l2': 2.9534924999161383e-06, 'learning_rate': 1.2107517360775861e-08, 'num_leaves': 114, 'feature_fraction': 0.9545848198257633, 'bagging_fraction': 0.9558177301873064, 'bagging_freq': 2, 'min_child_samples': 69}. Best is trial 0 with value: 0.784.\n",
      "[I 2024-06-25 13:10:45,033] Trial 7 finished with value: 0.357 and parameters: {'lambda_l1': 8.738187458701699, 'lambda_l2': 6.262976214921169e-05, 'learning_rate': 0.00014279336241651596, 'num_leaves': 61, 'feature_fraction': 0.6822568736544372, 'bagging_fraction': 0.4808379564375198, 'bagging_freq': 4, 'min_child_samples': 92}. Best is trial 0 with value: 0.784.\n",
      "[I 2024-06-25 13:11:01,291] Trial 8 finished with value: 0.77 and parameters: {'lambda_l1': 0.0009416608760301833, 'lambda_l2': 0.07989570361492464, 'learning_rate': 0.057450798882462864, 'num_leaves': 124, 'feature_fraction': 0.4289564917027451, 'bagging_fraction': 0.7464050451421005, 'bagging_freq': 5, 'min_child_samples': 87}. Best is trial 0 with value: 0.784.\n",
      "[I 2024-06-25 13:11:15,359] Trial 9 finished with value: 0.694 and parameters: {'lambda_l1': 0.014281848274981291, 'lambda_l2': 4.622333708461447e-05, 'learning_rate': 0.007511881039460236, 'num_leaves': 218, 'feature_fraction': 0.6444573378742459, 'bagging_fraction': 0.7204930648678423, 'bagging_freq': 4, 'min_child_samples': 74}. Best is trial 0 with value: 0.784.\n"
     ]
    }
   ],
   "source": [
    "study = opt.create_study(direction='maximize')\n",
    "study.optimize(objective, n_trials=10)"
   ]
  },
  {
   "cell_type": "code",
   "execution_count": 23,
   "metadata": {},
   "outputs": [],
   "source": [
    "best_params = {\n",
    "    \"objective\": \"multiclass\",\n",
    "    \"metric\": \"multi_logloss\",\n",
    "    \"verbosity\": -1,\n",
    "    \"boosting_type\": \"gbdt\",\n",
    "    \"num_class\": 103,\n",
    "    \"lambda_l1\": study.best_params[\"lambda_l1\"],\n",
    "    \"lambda_l2\": study.best_params[\"lambda_l2\"],\n",
    "    \"learning_rate\": study.best_params[\"learning_rate\"],\n",
    "    \"num_leaves\": study.best_params[\"num_leaves\"],\n",
    "    \"feature_fraction\": study.best_params[\"feature_fraction\"],\n",
    "    \"bagging_fraction\": study.best_params[\"bagging_fraction\"],\n",
    "    \"bagging_freq\": study.best_params[\"bagging_freq\"],\n",
    "    \"min_child_samples\": study.best_params[\"min_child_samples\"],\n",
    "}"
   ]
  },
  {
   "cell_type": "code",
   "execution_count": 24,
   "metadata": {},
   "outputs": [
    {
     "name": "stdout",
     "output_type": "stream",
     "text": [
      "Precision:  0.784\n",
      "Recall:  0.784\n"
     ]
    }
   ],
   "source": [
    "final_model = lgb.train(best_params, lgb.Dataset(X_train, label=y_train))\n",
    "y_pred = final_model.predict(X_test).argmax(axis=1)\n",
    "lightgbm_final_precision = precision_score(y_test, y_pred, average='micro')\n",
    "lightgbm_final_recall = recall_score(y_test, y_pred, average='micro')\n",
    "print(\"Precision: \", lightgbm_final_precision)\n",
    "print(\"Recall: \", lightgbm_final_recall)"
   ]
  },
  {
   "cell_type": "markdown",
   "metadata": {},
   "source": [
    "# Conclusion"
   ]
  },
  {
   "cell_type": "code",
   "execution_count": 25,
   "metadata": {},
   "outputs": [
    {
     "name": "stdout",
     "output_type": "stream",
     "text": [
      "LightGBM je bolji\n"
     ]
    }
   ],
   "source": [
    "if lightgbm_final_precision > nn_final_precision:\n",
    "    print(\"LightGBM has better precision\")\n",
    "\n",
    "else:\n",
    "    print(\"Neural network has better precision\")\n",
    "\n",
    "if lightgbm_final_recall > nn_final_recall:\n",
    "    print(\"LightGBM has better recall\")\n",
    "else:\n",
    "    print(\"Neural network has better recall\")\n",
    "    "
   ]
  }
 ],
 "metadata": {
  "kernelspec": {
   "display_name": "Python 3 (ipykernel)",
   "language": "python",
   "name": "python3"
  },
  "language_info": {
   "codemirror_mode": {
    "name": "ipython",
    "version": 3
   },
   "file_extension": ".py",
   "mimetype": "text/x-python",
   "name": "python",
   "nbconvert_exporter": "python",
   "pygments_lexer": "ipython3",
   "version": "3.12.2"
  }
 },
 "nbformat": 4,
 "nbformat_minor": 5
}
