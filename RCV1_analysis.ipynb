{
 "cells": [
  {
   "cell_type": "markdown",
   "metadata": {},
   "source": [
    "# Neural Network vs LightGBM comparison\n",
    "### Damjan Strbac"
   ]
  },
  {
   "cell_type": "markdown",
   "metadata": {},
   "source": [
    "## Neural network"
   ]
  },
  {
   "cell_type": "code",
   "execution_count": 1,
   "id": "7ea02868-b6e8-4da1-8ea0-215392a6e98c",
   "metadata": {},
   "outputs": [],
   "source": [
    "import torch as T\n",
    "import torch.nn as nn"
   ]
  },
  {
   "cell_type": "code",
   "execution_count": 7,
   "metadata": {},
   "outputs": [],
   "source": [
    "#Neural network for RCV1 dataset\n",
    "#dataset: https://scikit-learn.org/0.18/datasets/rcv1.html\n",
    "class RCV1NeuralNetwork(nn.Module):\n",
    "    def __init__(self):\n",
    "        super(RCV1NeuralNetwork, self).__init__()\n",
    "        self.layer1 = nn.Linear(47236, 1024)\n",
    "        self.act1 = nn.ReLU()\n",
    "        self.drop1 = nn.Dropout(p=0.2)\n",
    "        self.layer2 = nn.Linear(1024, 256)\n",
    "        self.act2 = nn.ReLU()\n",
    "        self.drop2 = nn.Dropout(p=0.2)\n",
    "        self.output = nn.Linear(256, 103)\n",
    "        self.softmax = nn.LogSoftmax(dim=1) \n",
    "\n",
    "    def forward(self, x):\n",
    "        x = self.act1(self.layer1(x))\n",
    "        x = self.drop1(x)\n",
    "        x = self.act2(self.layer2(x))\n",
    "        x = self.drop2(x)\n",
    "        x = self.output(x)\n",
    "        x = self.softmax(x)  # Apply softmax activation\n",
    "        return x"
   ]
  },
  {
   "cell_type": "code",
   "execution_count": 2,
   "id": "4118af27-4a7d-47c1-82c7-66060e0b713f",
   "metadata": {},
   "outputs": [],
   "source": [
    "from sklearn.datasets import fetch_rcv1\n",
    "rcv1 = fetch_rcv1(subset='train', random_state=42, download_if_missing=True)\n",
    "\n",
    "X = rcv1.data\n",
    "y = rcv1.target"
   ]
  },
  {
   "cell_type": "code",
   "execution_count": null,
   "metadata": {},
   "outputs": [],
   "source": [
    "print(X.shape)\n",
    "print(y.shape)"
   ]
  },
  {
   "cell_type": "code",
   "execution_count": 3,
   "metadata": {},
   "outputs": [],
   "source": [
    "from sklearn.model_selection import train_test_split\n",
    "\n",
    "X_train, X_test, y_train, y_test = train_test_split(X, y, test_size=0.6, random_state=42)\n",
    "\n",
    "\n",
    "# Convert data and labels to PyTorch tensors\n",
    "X_train_tensor = T.tensor(X_train.toarray()).float()\n",
    "X_test_tensor = T.tensor(X_test.toarray()).float()\n",
    "y_train_tensor = T.tensor(y_train.toarray()).float()\n",
    "y_test_tensor = T.tensor(y_test.toarray()).float()\n"
   ]
  },
  {
   "cell_type": "code",
   "execution_count": 4,
   "metadata": {},
   "outputs": [],
   "source": [
    "from torch.utils.data import DataLoader, TensorDataset\n",
    "\n",
    "# Create DataLoader\n",
    "train_dataset = TensorDataset(X_train_tensor, y_train_tensor)\n",
    "test_dataset = TensorDataset(X_test_tensor, y_test_tensor)\n",
    "\n",
    "train_loader = DataLoader(train_dataset, batch_size=16, shuffle=True)\n",
    "test_loader = DataLoader(test_dataset, batch_size=16)\n"
   ]
  },
  {
   "cell_type": "code",
   "execution_count": 5,
   "metadata": {},
   "outputs": [
    {
     "name": "stdout",
     "output_type": "stream",
     "text": [
      "cpu\n"
     ]
    }
   ],
   "source": [
    "device = T.device(\"cuda:0\") if T.cuda.is_available() else T.device(\"cpu\")\n",
    "print(device)"
   ]
  },
  {
   "cell_type": "code",
   "execution_count": 8,
   "metadata": {},
   "outputs": [],
   "source": [
    "net = RCV1NeuralNetwork().to(device)\n",
    "optimizer = T.optim.Adam(net.parameters(), lr=1e-3, weight_decay=1e-5)\n",
    "loss_fn = nn.CrossEntropyLoss()"
   ]
  },
  {
   "cell_type": "code",
   "execution_count": 9,
   "metadata": {},
   "outputs": [],
   "source": [
    "\n",
    "from torcheval.metrics.functional import multiclass_precision, multiclass_recall\n",
    "\n",
    "def calculate_precision(y_true, y_pred):\n",
    "    y_pred_classes = y_pred.argmax(dim=1)  # Get predicted class\n",
    "    y_true_classes = y_true.argmax(dim=1)  # Get true class\n",
    "    return multiclass_precision(y_pred_classes, y_true_classes, num_classes=103)  # Calculate multiclass precision\n",
    "\n",
    "# Function to calculate recall for the neural network\n",
    "def calculate_recall(y_true, y_pred):\n",
    "    y_pred_classes = y_pred.argmax(dim=1)  # Get predicted class\n",
    "    y_true_classes = y_true.argmax(dim=1)  # Get true class\n",
    "    return multiclass_recall(y_pred_classes, y_true_classes, num_classes=103)  # Calculate multiclass recall"
   ]
  },
  {
   "cell_type": "code",
   "execution_count": 10,
   "metadata": {},
   "outputs": [],
   "source": [
    "EPOCHS = 10\n",
    "best_precision = 0.0\n",
    "best_recall = 0.0\n",
    "\n",
    "best_state = None\n",
    "best_optimizer_state = None\n",
    "\n",
    "patience = 2\n",
    "counter = 0"
   ]
  },
  {
   "cell_type": "code",
   "execution_count": null,
   "metadata": {},
   "outputs": [],
   "source": [
    "for epoch in range(EPOCHS):\n",
    "    net.train()  # Set the model to training mode\n",
    "    total_loss = 0.0\n",
    "    total_precision = 0.0\n",
    "    \n",
    "    for x, y in train_loader:\n",
    "        x, y = x.to(device), y.to(device)\n",
    "        optimizer.zero_grad()\n",
    "        preds = net(x)\n",
    "        loss = loss_fn(preds, y.argmax(dim=1))\n",
    "        loss.backward()\n",
    "        optimizer.step()\n",
    "        \n",
    "        total_loss += loss.item() * x.size(0)\n",
    "        total_precision += calculate_precision(y, preds).item() * x.size(0)\n",
    "    \n",
    "    avg_loss = total_loss / len(train_loader.dataset)\n",
    "    avg_precision = total_precision / len(train_loader.dataset)\n",
    "    \n",
    "    print(f\"Epoch {epoch + 1}/{EPOCHS}, Loss: {avg_loss:.4f}, Precision: {avg_precision:.4f}\")\n",
    "    \n",
    "    # Evaluation on the test set\n",
    "    net.eval()  # Set the model to evaluation mode\n",
    "    total_precision = 0.0\n",
    "    total_recall = 0.0\n",
    "    \n",
    "    with T.no_grad():\n",
    "        for x, y in test_loader:\n",
    "            x, y = x.to(device), y.to(device)\n",
    "            preds = net(x)\n",
    "            total_precision += calculate_precision(y, preds).item() * x.size(0)\n",
    "            total_recall += calculate_recall(y, preds).item() * x.size(0)\n",
    "    \n",
    "    avg_precision = total_precision / len(test_loader.dataset)\n",
    "    avg_recall = total_recall / len(test_loader.dataset)\n",
    "    print(f\"Test Precision: {avg_precision:.4f}, Test Recall: {avg_recall:.4f}\")\n",
    "    \n",
    "    # Check if test accuracy improved\n",
    "    if avg_precision > best_precision and avg_recall > best_recall:\n",
    "        best_precision = avg_precision\n",
    "        best_recall = avg_recall\n",
    "        best_state = net.state_dict()\n",
    "        best_optimizer_state = optimizer.state_dict()  # Save optimizer state\n",
    "        T.save({\n",
    "            'epoch': epoch,\n",
    "            'model_state_dict': net.state_dict(),\n",
    "            'optimizer_state_dict': optimizer.state_dict(),\n",
    "            'loss': avg_loss,\n",
    "            }, \"best_model_checkpoint.pth\")\n",
    "        counter = 0  # Reset counter if there's improvement\n",
    "    else:\n",
    "        counter += 1  # Increment counter if no improvement\n",
    "    \n",
    "    # Check if early stopping criteria met\n",
    "    if counter >= patience:\n",
    "        print(f\"Early stopping at epoch {epoch + 1} due to no improvement in test precision.\")\n",
    "        break"
   ]
  },
  {
   "cell_type": "code",
   "execution_count": null,
   "metadata": {},
   "outputs": [],
   "source": [
    "if best_state is not None:\n",
    "    checkpoint = T.load(\"best_model_checkpoint.pth\")\n",
    "    net.load_state_dict(checkpoint['model_state_dict'])\n",
    "    optimizer.load_state_dict(checkpoint['optimizer_state_dict'])\n",
    "    epoch = checkpoint['epoch']\n",
    "    loss = checkpoint['loss']\n",
    "    print(\"Model restored to the state with the best test precision.\")\n",
    "    \n",
    "    # Save the best model and optimizer state\n",
    "    T.save({\n",
    "            'epoch': epoch,\n",
    "            'model_state_dict': net.state_dict(),\n",
    "            'optimizer_state_dict': optimizer.state_dict(),\n",
    "            'loss': loss,\n",
    "            }, \"best_model_checkpoint.pth\")\n",
    "\n",
    "# Evaluate the restored model on the test set\n",
    "net.eval()\n",
    "total_precision = 0.0\n",
    "total_recall = 0.0\n",
    "with T.no_grad():\n",
    "    for x, y in test_loader:\n",
    "        x, y = x.to(device), y.to(device)\n",
    "        preds = net(x)\n",
    "        total_precision += calculate_precision(y, preds).item() * x.size(0)\n",
    "        total_recall += calculate_recall(y, preds).item() * x.size(0)\n",
    "\n",
    "nn_final_precision = total_precision / len(test_loader.dataset)\n",
    "nn_final_recall = total_recall / len(test_loader.dataset)\n",
    "print(\"Final precision: \", nn_final_precision)\n",
    "print(\"Final reacal: \", nn_final_recall)\n"
   ]
  },
  {
   "cell_type": "markdown",
   "metadata": {},
   "source": [
    "## LightGBM"
   ]
  },
  {
   "cell_type": "code",
   "execution_count": 15,
   "metadata": {},
   "outputs": [],
   "source": [
    "import lightgbm as lgb\n",
    "import optuna as opt\n",
    "import numpy as np\n",
    "from sklearn.metrics import precision_score, recall_score\n",
    "from sklearn.preprocessing import StandardScaler\n",
    "from sklearn.model_selection import GridSearchCV\n",
    "from sklearn.preprocessing import LabelEncoder"
   ]
  },
  {
   "cell_type": "code",
   "execution_count": 16,
   "metadata": {},
   "outputs": [],
   "source": [
    "X = rcv1.data[:10000]\n",
    "y = rcv1.target[:10000].toarray()"
   ]
  },
  {
   "cell_type": "code",
   "execution_count": 17,
   "metadata": {},
   "outputs": [],
   "source": [
    "\n",
    "X_train, X_val,y_train, y_val = train_test_split(X, y, test_size=0.2, random_state=42)\n",
    "X_val, X_test, y_val, y_test = train_test_split(X_val, y_val, test_size=0.5, random_state=42)"
   ]
  },
  {
   "cell_type": "code",
   "execution_count": null,
   "metadata": {},
   "outputs": [],
   "source": [
    "y_train = np.argmax(y_train, axis=1)\n",
    "y_val = np.argmax(y_val, axis=1)\n",
    "y_test = np.argmax(y_test, axis=1)\n",
    "\n",
    "print(X_train.shape)\n",
    "print(y_train.shape)\n",
    "print(X_test.shape)\n",
    "print(y_test.shape)"
   ]
  },
  {
   "cell_type": "code",
   "execution_count": 19,
   "metadata": {},
   "outputs": [],
   "source": [
    "scaler = StandardScaler(with_mean=False)\n",
    "X_train = scaler.fit_transform(X_train)\n",
    "X_test = scaler.transform(X_test)\n",
    "X_val = scaler.transform(X_val)"
   ]
  },
  {
   "cell_type": "code",
   "execution_count": null,
   "metadata": {},
   "outputs": [],
   "source": [
    "print(X_train.shape)\n",
    "print(X_test.shape)"
   ]
  },
  {
   "cell_type": "code",
   "execution_count": 21,
   "metadata": {},
   "outputs": [],
   "source": [
    "def objective(trial):\n",
    "    param = {\n",
    "        \"objective\": \"multiclass\",\n",
    "        \"metric\": \"multi_logloss\",\n",
    "        \"verbosity\": -1,\n",
    "        \"boosting_type\": \"gbdt\",\n",
    "        \"lambda_l1\": trial.suggest_float(\"lambda_l1\", 1e-8, 10.0, log=True),\n",
    "        \"lambda_l2\": trial.suggest_float(\"lambda_l2\", 1e-8, 10.0, log=True),\n",
    "        \"learning_rate\": trial.suggest_float(\"learning_rate\", 1e-8, 1e-1, log=True),\n",
    "        \"num_leaves\": trial.suggest_int(\"num_leaves\", 2, 256),\n",
    "        \"feature_fraction\": trial.suggest_float(\"feature_fraction\", 0.4, 1.0),\n",
    "        \"bagging_fraction\": trial.suggest_float(\"bagging_fraction\", 0.4, 1.0),\n",
    "        \"bagging_freq\": trial.suggest_int(\"bagging_freq\", 1, 7),\n",
    "        \"min_child_samples\": trial.suggest_int(\"min_child_samples\", 5, 100),\n",
    "    }\n",
    "    \n",
    "    model = lgb.LGBMClassifier(**param)\n",
    "    model.fit(X_train, y_train)\n",
    "    y_pred = model.predict(X_test)\n",
    "    y_pred = np.rint(y_pred)\n",
    "    precision = precision_score(y_test, y_pred, average='micro')\n",
    "    return precision"
   ]
  },
  {
   "cell_type": "code",
   "execution_count": null,
   "metadata": {},
   "outputs": [],
   "source": [
    "study = opt.create_study(direction='maximize')\n",
    "study.optimize(objective, n_trials=10)"
   ]
  },
  {
   "cell_type": "code",
   "execution_count": 23,
   "metadata": {},
   "outputs": [],
   "source": [
    "best_params = {\n",
    "    \"objective\": \"multiclass\",\n",
    "    \"metric\": \"multi_logloss\",\n",
    "    \"verbosity\": -1,\n",
    "    \"boosting_type\": \"gbdt\",\n",
    "    \"num_class\": 103,\n",
    "    \"lambda_l1\": study.best_params[\"lambda_l1\"],\n",
    "    \"lambda_l2\": study.best_params[\"lambda_l2\"],\n",
    "    \"learning_rate\": study.best_params[\"learning_rate\"],\n",
    "    \"num_leaves\": study.best_params[\"num_leaves\"],\n",
    "    \"feature_fraction\": study.best_params[\"feature_fraction\"],\n",
    "    \"bagging_fraction\": study.best_params[\"bagging_fraction\"],\n",
    "    \"bagging_freq\": study.best_params[\"bagging_freq\"],\n",
    "    \"min_child_samples\": study.best_params[\"min_child_samples\"],\n",
    "}"
   ]
  },
  {
   "cell_type": "code",
   "execution_count": null,
   "metadata": {},
   "outputs": [],
   "source": [
    "final_model = lgb.train(best_params, lgb.Dataset(X_train, label=y_train))\n",
    "y_pred = final_model.predict(X_test).argmax(axis=1)\n",
    "lightgbm_final_precision = precision_score(y_test, y_pred, average='micro')\n",
    "lightgbm_final_recall = recall_score(y_test, y_pred, average='micro')\n",
    "print(\"Precision: \", lightgbm_final_precision)\n",
    "print(\"Recall: \", lightgbm_final_recall)"
   ]
  },
  {
   "cell_type": "markdown",
   "metadata": {},
   "source": [
    "# Conclusion"
   ]
  },
  {
   "cell_type": "code",
   "execution_count": null,
   "metadata": {},
   "outputs": [],
   "source": [
    "if lightgbm_final_precision > nn_final_precision:\n",
    "    print(\"LightGBM has better precision\")\n",
    "\n",
    "else:\n",
    "    print(\"Neural network has better precision\")\n",
    "\n",
    "if lightgbm_final_recall > nn_final_recall:\n",
    "    print(\"LightGBM has better recall\")\n",
    "else:\n",
    "    print(\"Neural network has better recall\")\n",
    "    "
   ]
  }
 ],
 "metadata": {
  "kernelspec": {
   "display_name": "Python 3 (ipykernel)",
   "language": "python",
   "name": "python3"
  },
  "language_info": {
   "codemirror_mode": {
    "name": "ipython",
    "version": 3
   },
   "file_extension": ".py",
   "mimetype": "text/x-python",
   "name": "python",
   "nbconvert_exporter": "python",
   "pygments_lexer": "ipython3",
   "version": "3.12.2"
  }
 },
 "nbformat": 4,
 "nbformat_minor": 5
}
